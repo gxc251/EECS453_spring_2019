{
  "nbformat": 4,
  "nbformat_minor": 0,
  "metadata": {
    "colab": {
      "name": "load_model.ipynb",
      "version": "0.3.2",
      "provenance": []
    },
    "kernelspec": {
      "name": "python3",
      "display_name": "Python 3"
    },
    "accelerator": "GPU"
  },
  "cells": [
    {
      "metadata": {
        "id": "vrQH33Oroo2V",
        "colab_type": "code",
        "outputId": "cb6cf68d-91fb-46cc-e1ab-8e2600c2cc37",
        "colab": {
          "base_uri": "https://localhost:8080/",
          "height": 34
        }
      },
      "cell_type": "code",
      "source": [
        "import tensorflow as tf\n",
        "import numpy as np\n",
        "from keras.models import load_model\n",
        "from keras.metrics import binary_accuracy,categorical_accuracy\n",
        "from sklearn.model_selection import train_test_split\n",
        "import pickle\n",
        "from sklearn.metrics import accuracy_score\n",
        "from sklearn.decomposition import PCA\n",
        "from sklearn import decomposition\n",
        "import pandas as pd"
      ],
      "execution_count": 0,
      "outputs": [
        {
          "output_type": "stream",
          "text": [
            "Using TensorFlow backend.\n"
          ],
          "name": "stderr"
        }
      ]
    },
    {
      "metadata": {
        "id": "IBS6kd9ipgVa",
        "colab_type": "code",
        "outputId": "aa67c161-8b04-47a7-dd80-be80af0a21f5",
        "colab": {
          "base_uri": "https://localhost:8080/",
          "height": 213
        }
      },
      "cell_type": "code",
      "source": [
        "model= load_model('3CNN.model')\n",
        "input_set_labeled = np.genfromtxt ('training.csv', delimiter=\",\")\n",
        "input_set=input_set_labeled[1:input_set_labeled.shape[0],:]\n",
        "input_data=input_set[:,1:input_set.shape[1]]\n",
        "target_data = input_set[:,0]\n",
        "target_data=target_data.reshape(target_data.shape[0],1)\n",
        "\n",
        "\n",
        "input_train,input_test, target_train, target_test =train_test_split(input_data,target_data,test_size=0.2, random_state=10)\n",
        "\n",
        "sess = tf.Session()\n",
        "init_var = tf.global_variables_initializer()\n",
        "sess.run(init_var)\n",
        "indices1 = tf.cast(target_test, tf.int32)\n",
        "one_hot_vecs1 = tf.one_hot(indices1,np.max(sess.run(indices1))+1)\n",
        "new_output=sess.run(one_hot_vecs1)\n",
        "new_output=new_output.reshape(-1,10)\n",
        "print(new_output.shape)\n",
        "\n",
        "input_train_map=input_train.reshape(-1,28,28,1)\n",
        "input_test_map=input_test.reshape(-1,28,28,1)"
      ],
      "execution_count": 0,
      "outputs": [
        {
          "output_type": "stream",
          "text": [
            "WARNING:tensorflow:From /usr/local/lib/python3.6/dist-packages/tensorflow/python/framework/op_def_library.py:263: colocate_with (from tensorflow.python.framework.ops) is deprecated and will be removed in a future version.\n",
            "Instructions for updating:\n",
            "Colocations handled automatically by placer.\n",
            "WARNING:tensorflow:From /usr/local/lib/python3.6/dist-packages/keras/backend/tensorflow_backend.py:3445: calling dropout (from tensorflow.python.ops.nn_ops) with keep_prob is deprecated and will be removed in a future version.\n",
            "Instructions for updating:\n",
            "Please use `rate` instead of `keep_prob`. Rate should be set to `rate = 1 - keep_prob`.\n",
            "WARNING:tensorflow:From /usr/local/lib/python3.6/dist-packages/tensorflow/python/ops/math_ops.py:3066: to_int32 (from tensorflow.python.ops.math_ops) is deprecated and will be removed in a future version.\n",
            "Instructions for updating:\n",
            "Use tf.cast instead.\n",
            "(4200, 10)\n"
          ],
          "name": "stdout"
        }
      ]
    },
    {
      "metadata": {
        "id": "sGWuBmhImWBC",
        "colab_type": "code",
        "outputId": "f23792c6-3158-4029-a5f5-1e87aa66e302",
        "colab": {
          "base_uri": "https://localhost:8080/",
          "height": 34
        }
      },
      "cell_type": "code",
      "source": [
        "testing_set_labeled=np.genfromtxt ('testing.csv', delimiter=\",\")\n",
        "test_set=testing_set_labeled[1:testing_set_labeled.shape[0],:]\n",
        "print(test_set.shape)"
      ],
      "execution_count": 0,
      "outputs": [
        {
          "output_type": "stream",
          "text": [
            "(21000, 784)\n"
          ],
          "name": "stdout"
        }
      ]
    },
    {
      "metadata": {
        "id": "Etk2zF2arl-W",
        "colab_type": "code",
        "outputId": "7394cbbb-cf15-417c-877d-c709b9fdfec5",
        "colab": {
          "base_uri": "https://localhost:8080/",
          "height": 52
        }
      },
      "cell_type": "code",
      "source": [
        "print(model.evaluate(input_test_map, new_output, batch_size=147))\n",
        "pre=model.predict(test_set.reshape(-1,28,28,1))\n",
        "predict=np.argmax(pre,axis=1)"
      ],
      "execution_count": 0,
      "outputs": [
        {
          "output_type": "stream",
          "text": [
            "4200/4200 [==============================] - 0s 43us/step\n",
            "[0.0565261352318862, 0.9897619089484215]\n"
          ],
          "name": "stdout"
        }
      ]
    },
    {
      "metadata": {
        "id": "FnC7IOJ3w8xY",
        "colab_type": "code",
        "colab": {}
      },
      "cell_type": "code",
      "source": [
        "prediction = pd.DataFrame(predict, columns=['predictions']).to_csv('prediction.csv',index=False)"
      ],
      "execution_count": 0,
      "outputs": []
    },
    {
      "metadata": {
        "id": "KK-1Ifd5V32o",
        "colab_type": "code",
        "outputId": "2f124e86-d716-4e0d-8cb4-6614bf979da3",
        "colab": {
          "base_uri": "https://localhost:8080/",
          "height": 34
        }
      },
      "cell_type": "code",
      "source": [
        "pkl_filename = \"pickle_model.pkl\" \n",
        "with open(pkl_filename, 'rb') as file:  \n",
        "    pickle_model = pickle.load(file)\n",
        "predict=pickle_model.predict(input_test)\n",
        "print(accuracy_score(new_output,predict))"
      ],
      "execution_count": 0,
      "outputs": [
        {
          "output_type": "stream",
          "text": [
            "0.849047619047619\n"
          ],
          "name": "stdout"
        }
      ]
    },
    {
      "metadata": {
        "id": "my6kMzgeaqYf",
        "colab_type": "code",
        "outputId": "e1af76af-a721-427b-c3de-be17a0091f35",
        "colab": {
          "base_uri": "https://localhost:8080/",
          "height": 125
        }
      },
      "cell_type": "code",
      "source": [
        "pkl_filename = \"RFCModel.pkl\" \n",
        "with open(pkl_filename, 'rb') as file:  \n",
        "    rfc_model = pickle.load(file)\n",
        "predict=rfc_model.predict(input_test)\n",
        "print(accuracy_score(target_test,predict))\n"
      ],
      "execution_count": 0,
      "outputs": [
        {
          "output_type": "stream",
          "text": [
            "/usr/local/lib/python3.6/dist-packages/sklearn/base.py:251: UserWarning: Trying to unpickle estimator DecisionTreeClassifier from version 0.19.1 when using version 0.20.2. This might lead to breaking code or invalid results. Use at your own risk.\n",
            "  UserWarning)\n",
            "/usr/local/lib/python3.6/dist-packages/sklearn/base.py:251: UserWarning: Trying to unpickle estimator RandomForestClassifier from version 0.19.1 when using version 0.20.2. This might lead to breaking code or invalid results. Use at your own risk.\n",
            "  UserWarning)\n"
          ],
          "name": "stderr"
        },
        {
          "output_type": "stream",
          "text": [
            "0.99\n"
          ],
          "name": "stdout"
        }
      ]
    },
    {
      "metadata": {
        "id": "5zxOIOv3dAP2",
        "colab_type": "code",
        "outputId": "160ac5a1-961c-496b-ed28-80739e23e383",
        "colab": {
          "base_uri": "https://localhost:8080/",
          "height": 125
        }
      },
      "cell_type": "code",
      "source": [
        "pkl_filename = \"ExtraTreesModel.pkl\" \n",
        "with open(pkl_filename, 'rb') as file:  \n",
        "    et_model = pickle.load(file)\n",
        "predict=et_model.predict(input_test)\n",
        "print(accuracy_score(target_test,predict))"
      ],
      "execution_count": 0,
      "outputs": [
        {
          "output_type": "stream",
          "text": [
            "0.9871428571428571\n"
          ],
          "name": "stdout"
        },
        {
          "output_type": "stream",
          "text": [
            "/usr/local/lib/python3.6/dist-packages/sklearn/base.py:251: UserWarning: Trying to unpickle estimator ExtraTreeClassifier from version 0.19.1 when using version 0.20.2. This might lead to breaking code or invalid results. Use at your own risk.\n",
            "  UserWarning)\n",
            "/usr/local/lib/python3.6/dist-packages/sklearn/base.py:251: UserWarning: Trying to unpickle estimator ExtraTreesClassifier from version 0.19.1 when using version 0.20.2. This might lead to breaking code or invalid results. Use at your own risk.\n",
            "  UserWarning)\n"
          ],
          "name": "stderr"
        }
      ]
    },
    {
      "metadata": {
        "id": "nzQd_mDYe0py",
        "colab_type": "code",
        "outputId": "eaa21036-0503-46f2-cd1a-c2771be3e045",
        "colab": {
          "base_uri": "https://localhost:8080/",
          "height": 90
        }
      },
      "cell_type": "code",
      "source": [
        "pkl_filename = \"svm.pkl\" \n",
        "with open(pkl_filename, 'rb') as file:  \n",
        "    svm_model = pickle.load(file,encoding='latin1')\n",
        "\n",
        "pca = decomposition.PCA()\n",
        "pca.fit(input_test)\n",
        "predict=svm_model.predict(pca.transform(input_test))\n",
        "print(accuracy_score(target_test,predict))"
      ],
      "execution_count": 0,
      "outputs": [
        {
          "output_type": "stream",
          "text": [
            "/usr/local/lib/python3.6/dist-packages/sklearn/base.py:251: UserWarning: Trying to unpickle estimator SVC from version 0.19.1 when using version 0.20.2. This might lead to breaking code or invalid results. Use at your own risk.\n",
            "  UserWarning)\n"
          ],
          "name": "stderr"
        },
        {
          "output_type": "stream",
          "text": [
            "0.0988095238095238\n"
          ],
          "name": "stdout"
        }
      ]
    },
    {
      "metadata": {
        "id": "Qgq_QN-vqvML",
        "colab_type": "code",
        "outputId": "9482a2be-4f87-4d82-d1e8-d7fc62e15be8",
        "colab": {
          "base_uri": "https://localhost:8080/",
          "height": 34
        }
      },
      "cell_type": "code",
      "source": [
        "pkl_filename = \"knn2.pkl\" \n",
        "with open(pkl_filename, 'rb') as file:  \n",
        "    knn_model = pickle.load(file)\n",
        "\n",
        "predict=knn_model.predict(input_test)\n",
        "print(accuracy_score(target_test,predict))"
      ],
      "execution_count": 0,
      "outputs": [
        {
          "output_type": "stream",
          "text": [
            "0.65\n"
          ],
          "name": "stdout"
        }
      ]
    },
    {
      "metadata": {
        "id": "tgwj3oTiv2PP",
        "colab_type": "code",
        "outputId": "f639ce63-6b22-4801-d04a-bb87b3842d34",
        "colab": {
          "base_uri": "https://localhost:8080/",
          "height": 34
        }
      },
      "cell_type": "code",
      "source": [
        "print(knn_model.score(input_test,target_test))"
      ],
      "execution_count": 0,
      "outputs": [
        {
          "output_type": "stream",
          "text": [
            "0.65\n"
          ],
          "name": "stdout"
        }
      ]
    },
    {
      "metadata": {
        "id": "yi2R7h5Qnhg2",
        "colab_type": "code",
        "outputId": "08a9bf89-3d86-4b42-821b-59b7e592eb26",
        "colab": {
          "base_uri": "https://localhost:8080/",
          "height": 246
        }
      },
      "cell_type": "code",
      "source": [
        "# predict=rfc_model.predict(test_set)\n",
        "# # predicts=model.predict(input_test_map)\n",
        "# # print(predicts)\n",
        "# prediction = pd.DataFrame(predict, columns=['predictions']).to_csv('prediction.csv',index=False)"
      ],
      "execution_count": 0,
      "outputs": [
        {
          "output_type": "stream",
          "text": [
            "[[1.3517629e-17 1.1870082e-23 5.6041916e-22 ... 1.0740736e-12\n",
            "  1.1911908e-15 1.0000000e+00]\n",
            " [4.1095564e-13 7.6404847e-09 8.7015688e-14 ... 7.3381595e-13\n",
            "  4.8005648e-09 1.0926025e-09]\n",
            " [1.0000000e+00 1.7747291e-20 1.4239207e-12 ... 5.2559925e-18\n",
            "  8.5790114e-15 2.6934457e-16]\n",
            " ...\n",
            " [2.0092516e-21 4.1689873e-23 1.0000000e+00 ... 1.3974276e-22\n",
            "  1.8963880e-20 1.5526083e-25]\n",
            " [6.7656725e-22 3.3104706e-22 2.5759237e-24 ... 1.2457507e-22\n",
            "  5.8787354e-18 1.3969539e-21]\n",
            " [1.4921738e-23 4.0007017e-17 9.5042608e-21 ... 3.0836347e-17\n",
            "  2.5977124e-16 1.8927538e-19]]\n"
          ],
          "name": "stdout"
        }
      ]
    }
  ]
}