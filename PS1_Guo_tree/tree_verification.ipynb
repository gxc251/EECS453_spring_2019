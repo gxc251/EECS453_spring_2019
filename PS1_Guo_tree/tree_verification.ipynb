{
  "nbformat": 4,
  "nbformat_minor": 0,
  "metadata": {
    "colab": {
      "name": "tree verification.ipynb",
      "version": "0.3.2",
      "provenance": [],
      "collapsed_sections": []
    },
    "kernelspec": {
      "name": "python3",
      "display_name": "Python 3"
    },
    "accelerator": "GPU"
  },
  "cells": [
    {
      "metadata": {
        "id": "Z7vNneci91mA",
        "colab_type": "code",
        "colab": {}
      },
      "cell_type": "code",
      "source": [
        "import tensorflow as tf\n",
        "import numpy as np\n",
        "import pandas as pd\n",
        "from sklearn.model_selection import train_test_split\n",
        "from sklearn import preprocessing\n",
        "from sklearn.model_selection import KFold\n",
        "from sklearn.tree import DecisionTreeClassifier\n",
        "from keras.models import Sequential\n",
        "from keras.layers.core import Dense, Dropout, Activation,Flatten\n",
        "from keras.layers import Conv2D, MaxPooling2D\n",
        "from keras.optimizers import SGD\n",
        "from keras.callbacks import ModelCheckpoint\n",
        "from keras import metrics\n",
        "import pickle\n",
        "from sklearn.metrics import accuracy_score\n"
      ],
      "execution_count": 0,
      "outputs": []
    },
    {
      "metadata": {
        "id": "7nYfTg-7944_",
        "colab_type": "code",
        "outputId": "d5774817-8482-4f7c-beae-49cc2201d974",
        "colab": {
          "base_uri": "https://localhost:8080/",
          "height": 87
        }
      },
      "cell_type": "code",
      "source": [
        "input_set_labeled = np.genfromtxt ('training.csv', delimiter=\",\")\n",
        "input_set=input_set_labeled[1:input_set_labeled.shape[0],:]\n",
        "input_data=input_set[:,1:input_set.shape[1]]\n",
        "target_data = input_set[:,0]\n",
        "target_data=target_data.reshape(target_data.shape[0],1)\n",
        "print(input_data.shape)\n",
        "print(target_data.shape)\n",
        "print(input_set.shape[1])\n",
        "print(input_set.shape[0])"
      ],
      "execution_count": 0,
      "outputs": [
        {
          "output_type": "stream",
          "text": [
            "(21000, 784)\n",
            "(21000, 1)\n",
            "785\n",
            "21000\n"
          ],
          "name": "stdout"
        }
      ]
    },
    {
      "metadata": {
        "id": "6afPtoM8TLex",
        "colab_type": "code",
        "outputId": "f51e9e15-df30-45f3-acdf-6708d64b2b34",
        "colab": {
          "base_uri": "https://localhost:8080/",
          "height": 140
        }
      },
      "cell_type": "code",
      "source": [
        "sess = tf.Session()\n",
        "init_var = tf.global_variables_initializer()\n",
        "sess.run(init_var)\n",
        "indices1 = tf.cast(target_data, tf.int32)\n",
        "one_hot_vecs1 = tf.one_hot(indices1,np.max(sess.run(indices1))+1)\n",
        "new_output=sess.run(one_hot_vecs1)\n",
        "new_output=new_output.reshape(21000,10)\n",
        "print(new_output)\n"
      ],
      "execution_count": 0,
      "outputs": [
        {
          "output_type": "stream",
          "text": [
            "[[0. 0. 0. ... 0. 0. 0.]\n",
            " [0. 0. 0. ... 1. 0. 0.]\n",
            " [0. 0. 0. ... 0. 0. 0.]\n",
            " ...\n",
            " [0. 0. 0. ... 1. 0. 0.]\n",
            " [0. 0. 0. ... 0. 0. 0.]\n",
            " [0. 0. 0. ... 0. 0. 1.]]\n"
          ],
          "name": "stdout"
        }
      ]
    },
    {
      "metadata": {
        "id": "DeYoxmMq4qbj",
        "colab_type": "code",
        "outputId": "75f8d174-74d7-44e5-fa43-78b52395c4e4",
        "colab": {
          "base_uri": "https://localhost:8080/",
          "height": 87
        }
      },
      "cell_type": "code",
      "source": [
        "input_train,input_test, target_train, target_test =train_test_split(input_data,new_output,test_size=0.166667, random_state=10)\n",
        "print(input_train.shape)\n",
        "print(input_test.shape)\n",
        "print(target_train.shape)\n",
        "print(target_test.shape)"
      ],
      "execution_count": 0,
      "outputs": [
        {
          "output_type": "stream",
          "text": [
            "(17499, 784)\n",
            "(3501, 784)\n",
            "(17499, 10)\n",
            "(3501, 10)\n"
          ],
          "name": "stdout"
        }
      ]
    },
    {
      "metadata": {
        "id": "vP36HqMo-PpC",
        "colab_type": "code",
        "outputId": "57cdb3b8-0dda-412a-eea0-6cb4bcafb37a",
        "colab": {
          "base_uri": "https://localhost:8080/",
          "height": 52
        }
      },
      "cell_type": "code",
      "source": [
        "input_train_map=input_train.reshape(-1,28,28,1)\n",
        "input_test_map=input_test.reshape(-1,28,28,1)\n",
        "print(input_train_map.shape)\n",
        "print(input_test_map.shape)"
      ],
      "execution_count": 0,
      "outputs": [
        {
          "output_type": "stream",
          "text": [
            "(17499, 28, 28, 1)\n",
            "(3501, 28, 28, 1)\n"
          ],
          "name": "stdout"
        }
      ]
    },
    {
      "metadata": {
        "id": "CDp2wlwFgewY",
        "colab_type": "code",
        "outputId": "958815d2-d8cd-49be-d28f-ddfa41e689e4",
        "colab": {
          "base_uri": "https://localhost:8080/",
          "height": 193
        }
      },
      "cell_type": "code",
      "source": [
        "\n",
        "score=[]\n",
        "kf = KFold(n_splits=5)\n",
        "index=0\n",
        "for train_index, test_index in kf.split(input_train):\n",
        "\n",
        "    X_train, X_test_loop = input_train[train_index], input_train[test_index]\n",
        "    y_train, y_test_loop = target_train[train_index], target_train[test_index]\n",
        "    print(X_train.shape)\n",
        "    model = DecisionTreeClassifier()\n",
        "    sgd = SGD(lr=0.001, decay=1e-6, momentum=0.9, nesterov=True)\n",
        "\n",
        "    filepath=str(index)+'weights.best.hdf5'\n",
        "    index=index+1\n",
        "    checkpoint = ModelCheckpoint(filepath, monitor='acc', verbose=1, save_best_only=True,\n",
        "                            mode='auto')\n",
        "    callbacks_list = [checkpoint]\n",
        "    model.fit(X_train, y_train)\n",
        "    s=model.score(X_test_loop, y_test_loop)\n",
        "    score.append(s)\n",
        "    if(s>=np.max(score)):\n",
        "      pkl_filename = \"pickle_model.pkl\"  \n",
        "      with open(pkl_filename, 'wb') as file:  \n",
        "        pickle.dump(model, file)\n",
        "    print(model.score(X_test_loop, y_test_loop))\n",
        "    "
      ],
      "execution_count": 0,
      "outputs": [
        {
          "output_type": "stream",
          "text": [
            "(13999, 784)\n",
            "0.8202857142857143\n",
            "(13999, 784)\n",
            "0.8245714285714286\n",
            "(13999, 784)\n",
            "0.8271428571428572\n",
            "(13999, 784)\n",
            "0.8248571428571428\n",
            "(14000, 784)\n",
            "0.8153758216633323\n"
          ],
          "name": "stdout"
        }
      ]
    },
    {
      "metadata": {
        "id": "tlszRAL6CP9W",
        "colab_type": "code",
        "outputId": "8b849224-52f9-4208-df84-40c01869e09c",
        "colab": {
          "base_uri": "https://localhost:8080/",
          "height": 34
        }
      },
      "cell_type": "code",
      "source": [
        "with open(pkl_filename, 'rb') as file:  \n",
        "    pickle_model = pickle.load(file)\n",
        "predict=pickle_model.predict(input_test)\n",
        "print(accuracy_score(target_test,predict))"
      ],
      "execution_count": 0,
      "outputs": [
        {
          "output_type": "stream",
          "text": [
            "0.8189088831762353\n"
          ],
          "name": "stdout"
        }
      ]
    }
  ]
}