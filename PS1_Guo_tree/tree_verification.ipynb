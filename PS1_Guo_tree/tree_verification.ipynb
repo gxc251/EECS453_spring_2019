{
  "nbformat": 4,
  "nbformat_minor": 0,
  "metadata": {
    "colab": {
      "name": "tree verification.ipynb",
      "version": "0.3.2",
      "provenance": [],
      "collapsed_sections": []
    },
    "kernelspec": {
      "name": "python3",
      "display_name": "Python 3"
    },
    "accelerator": "GPU"
  },
  "cells": [
    {
      "metadata": {
        "id": "Z7vNneci91mA",
        "colab_type": "code",
        "colab": {}
      },
      "cell_type": "code",
      "source": [
        "import tensorflow as tf\n",
        "import numpy as np\n",
        "import pandas as pd\n",
        "from sklearn.model_selection import train_test_split\n",
        "from sklearn import preprocessing\n",
        "from sklearn.model_selection import KFold\n",
        "from sklearn.tree import DecisionTreeClassifier\n",
        "from keras.models import Sequential\n",
        "from keras.layers.core import Dense, Dropout, Activation,Flatten\n",
        "from keras.layers import Conv2D, MaxPooling2D\n",
        "from keras.optimizers import SGD\n",
        "from keras.callbacks import ModelCheckpoint\n",
        "from keras import metrics\n",
        "import pickle\n",
        "from sklearn.metrics import accuracy_score\n"
      ],
      "execution_count": 0,
      "outputs": []
    },
    {
      "metadata": {
        "id": "7nYfTg-7944_",
        "colab_type": "code",
        "outputId": "d5774817-8482-4f7c-beae-49cc2201d974",
        "colab": {
          "base_uri": "https://localhost:8080/",
          "height": 87
        }
      },
      "cell_type": "code",
      "source": [
        "input_set_labeled = np.genfromtxt ('training.csv', delimiter=\",\")\n",
        "input_set=input_set_labeled[1:input_set_labeled.shape[0],:]\n",
        "input_data=input_set[:,1:input_set.shape[1]]\n",
        "target_data = input_set[:,0]\n",
        "target_data=target_data.reshape(target_data.shape[0],1)\n",
        "print(input_data.shape)\n",
        "print(target_data.shape)\n",
        "print(input_set.shape[1])\n",
        "print(input_set.shape[0])"
      ],
      "execution_count": 0,
      "outputs": [
        {
          "output_type": "stream",
          "text": [
            "(21000, 784)\n",
            "(21000, 1)\n",
            "785\n",
            "21000\n"
          ],
          "name": "stdout"
        }
      ]
    },
    {
      "metadata": {
        "id": "Q2vom2iqsTEX",
        "colab_type": "code",
        "colab": {}
      },
      "cell_type": "code",
      "source": [
        "#input_data=tf.transpose(input_data)\n",
        "# sess = tf.Session()\n",
        "# new_input_data=tf.concat([input_data,target_data],1)\n",
        "# new_input_data=tf.random_shuffle(new_input_data)\n",
        "# init_var = tf.global_variables_initializer()\n",
        "# sess.run(init_var)\n",
        "# print(new_input_data.shape)\n",
        "# new_input_data=sess.run(new_input_data)"
      ],
      "execution_count": 0,
      "outputs": []
    },
    {
      "metadata": {
        "id": "zJ999iF8Im2P",
        "colab_type": "code",
        "colab": {}
      },
      "cell_type": "code",
      "source": [
        "# input_data=new_input_data[:,0:len(new_input_data[0])-5]\n",
        "# target_data=new_input_data[:,len(new_input_data[0])-4:len(new_input_data[0])-1]\n",
        "# print(input_data.shape)\n",
        "# print(input_data.shape)\n",
        "# input_data_trans = tf.transpose(input_data)\n",
        "# target_data_trans = tf.transpose(target_data)\n",
        "#input_data_min=input_data[:,0:len(input_data[0])]\n",
        "# print(target_data_trans.shape)"
      ],
      "execution_count": 0,
      "outputs": []
    },
    {
      "metadata": {
        "id": "6afPtoM8TLex",
        "colab_type": "code",
        "outputId": "f51e9e15-df30-45f3-acdf-6708d64b2b34",
        "colab": {
          "base_uri": "https://localhost:8080/",
          "height": 140
        }
      },
      "cell_type": "code",
      "source": [
        "sess = tf.Session()\n",
        "init_var = tf.global_variables_initializer()\n",
        "sess.run(init_var)\n",
        "indices1 = tf.cast(target_data, tf.int32)\n",
        "one_hot_vecs1 = tf.one_hot(indices1,np.max(sess.run(indices1))+1)\n",
        "new_output=sess.run(one_hot_vecs1)\n",
        "new_output=new_output.reshape(21000,10)\n",
        "print(new_output)\n"
      ],
      "execution_count": 0,
      "outputs": [
        {
          "output_type": "stream",
          "text": [
            "[[0. 0. 0. ... 0. 0. 0.]\n",
            " [0. 0. 0. ... 1. 0. 0.]\n",
            " [0. 0. 0. ... 0. 0. 0.]\n",
            " ...\n",
            " [0. 0. 0. ... 1. 0. 0.]\n",
            " [0. 0. 0. ... 0. 0. 0.]\n",
            " [0. 0. 0. ... 0. 0. 1.]]\n"
          ],
          "name": "stdout"
        }
      ]
    },
    {
      "metadata": {
        "id": "DeYoxmMq4qbj",
        "colab_type": "code",
        "outputId": "75f8d174-74d7-44e5-fa43-78b52395c4e4",
        "colab": {
          "base_uri": "https://localhost:8080/",
          "height": 87
        }
      },
      "cell_type": "code",
      "source": [
        "input_train,input_test, target_train, target_test =train_test_split(input_data,new_output,test_size=0.166667, random_state=10)\n",
        "print(input_train.shape)\n",
        "print(input_test.shape)\n",
        "print(target_train.shape)\n",
        "print(target_test.shape)"
      ],
      "execution_count": 0,
      "outputs": [
        {
          "output_type": "stream",
          "text": [
            "(17499, 784)\n",
            "(3501, 784)\n",
            "(17499, 10)\n",
            "(3501, 10)\n"
          ],
          "name": "stdout"
        }
      ]
    },
    {
      "metadata": {
        "id": "vP36HqMo-PpC",
        "colab_type": "code",
        "outputId": "57cdb3b8-0dda-412a-eea0-6cb4bcafb37a",
        "colab": {
          "base_uri": "https://localhost:8080/",
          "height": 52
        }
      },
      "cell_type": "code",
      "source": [
        "input_train_map=input_train.reshape(-1,28,28,1)\n",
        "input_test_map=input_test.reshape(-1,28,28,1)\n",
        "print(input_train_map.shape)\n",
        "print(input_test_map.shape)"
      ],
      "execution_count": 0,
      "outputs": [
        {
          "output_type": "stream",
          "text": [
            "(17499, 28, 28, 1)\n",
            "(3501, 28, 28, 1)\n"
          ],
          "name": "stdout"
        }
      ]
    },
    {
      "metadata": {
        "id": "TbkipCPACSIg",
        "colab_type": "code",
        "colab": {}
      },
      "cell_type": "code",
      "source": [
        "# model = Sequential()\n",
        "# #32 core，with size 3*3\n",
        "# model.add(Conv2D(32, (3, 3), activation='relu', input_shape=(28, 28, 1)))\n",
        "# #2*2 max pool\n",
        "# model.add(MaxPooling2D(pool_size=(2, 2)))\n",
        "# #drop out layor\n",
        "# #model.add(Dropout(0.25))\n",
        "# #64 core，with size 3*3\n",
        "# model.add(Conv2D(64, (3, 3), activation='relu'))\n",
        "# model.add(Conv2D(64, (3, 3), activation='relu'))\n",
        "# #2*2 max pool\n",
        "# model.add(MaxPooling2D(pool_size=(2, 2)))\n",
        "# #drop out layor\n",
        "# #model.add(Dropout(0.25))\n",
        "# #flatten layor\n",
        "# model.add(Flatten())\n",
        "# #full connected\n",
        "# model.add(Dense(512, activation='relu'))\n",
        "# #model.add(Dense(32, activation='relu'))\n",
        "# model.add(Dropout(0.5))\n",
        "\n",
        "\n",
        "# #sorting\n",
        "# model.add(Dense(10, activation='softmax'))\n",
        "\n",
        "# sgd = SGD(lr=0.001, decay=1e-6, momentum=0.9, nesterov=True)\n",
        "# model.compile(loss='categorical_crossentropy', optimizer=sgd)\n",
        "\n"
      ],
      "execution_count": 0,
      "outputs": []
    },
    {
      "metadata": {
        "id": "CDp2wlwFgewY",
        "colab_type": "code",
        "outputId": "958815d2-d8cd-49be-d28f-ddfa41e689e4",
        "colab": {
          "base_uri": "https://localhost:8080/",
          "height": 193
        }
      },
      "cell_type": "code",
      "source": [
        "# kfold\n",
        "#X,X_test, y, y_test =train_test_split(new_input_data,target_data,test_size=0.1667, random_state=10)\n",
        "# X_train,X_validation, y_train, y_validation =train_test_split(X,y,test_size=0.2, random_state=10)\n",
        "score=[]\n",
        "kf = KFold(n_splits=5)\n",
        "index=0\n",
        "for train_index, test_index in kf.split(input_train):\n",
        "#     print(\"TRAIN:\", train_index, \"TEST:\", test_index)\n",
        "    X_train, X_test_loop = input_train[train_index], input_train[test_index]\n",
        "    y_train, y_test_loop = target_train[train_index], target_train[test_index]\n",
        "    print(X_train.shape)\n",
        "    model = DecisionTreeClassifier()\n",
        "    sgd = SGD(lr=0.001, decay=1e-6, momentum=0.9, nesterov=True)\n",
        "    #model.compile(loss='categorical_crossentropy', optimizer=sgd,metrics=['accuracy'])\n",
        "    filepath=str(index)+'weights.best.hdf5'\n",
        "    index=index+1\n",
        "    checkpoint = ModelCheckpoint(filepath, monitor='acc', verbose=1, save_best_only=True,\n",
        "                            mode='auto')\n",
        "    callbacks_list = [checkpoint]\n",
        "    model.fit(X_train, y_train)\n",
        "    s=model.score(X_test_loop, y_test_loop)\n",
        "    score.append(s)\n",
        "    if(s>=np.max(score)):\n",
        "      pkl_filename = \"pickle_model.pkl\"  \n",
        "      with open(pkl_filename, 'wb') as file:  \n",
        "        pickle.dump(model, file)\n",
        "#     model.fit(X_train, y_train,  batch_size=147, epochs=1000,callbacks=callbacks_list,verbose=0)\n",
        "    print(model.score(X_test_loop, y_test_loop))\n",
        "    "
      ],
      "execution_count": 0,
      "outputs": [
        {
          "output_type": "stream",
          "text": [
            "(13999, 784)\n",
            "0.8202857142857143\n",
            "(13999, 784)\n",
            "0.8245714285714286\n",
            "(13999, 784)\n",
            "0.8271428571428572\n",
            "(13999, 784)\n",
            "0.8248571428571428\n",
            "(14000, 784)\n",
            "0.8153758216633323\n"
          ],
          "name": "stdout"
        }
      ]
    },
    {
      "metadata": {
        "id": "tlszRAL6CP9W",
        "colab_type": "code",
        "outputId": "8b849224-52f9-4208-df84-40c01869e09c",
        "colab": {
          "base_uri": "https://localhost:8080/",
          "height": 34
        }
      },
      "cell_type": "code",
      "source": [
        "with open(pkl_filename, 'rb') as file:  \n",
        "    pickle_model = pickle.load(file)\n",
        "predict=pickle_model.predict(input_test)\n",
        "print(accuracy_score(target_test,predict))"
      ],
      "execution_count": 0,
      "outputs": [
        {
          "output_type": "stream",
          "text": [
            "0.8189088831762353\n"
          ],
          "name": "stdout"
        }
      ]
    },
    {
      "metadata": {
        "id": "szVNy-5qnVJN",
        "colab_type": "code",
        "colab": {}
      },
      "cell_type": "code",
      "source": [
        "# print(\"score=: \",score)\n",
        "# print(\"average score in five loop: \",np.mean(score))\n",
        "# final_score=[]\n",
        "# for iteration in range (0,5):\n",
        "#   filepath=str(iteration)+'weights.best.hdf5'\n",
        "# #   print(filepath)\n",
        "#   model.load_weights(filepath)\n",
        "#   model.save(str(iteration)+\"CNN.model\")\n",
        "#   final_score.append(model.evaluate(input_test_map, target_test, batch_size=147))\n",
        "# # final_score=model.evaluate(X_test, y_test, batch_size=147)\n",
        "# print(final_score)\n",
        "# print(\"best score=: \" ,np.max(final_score))\n",
        "# # print(X_validation)"
      ],
      "execution_count": 0,
      "outputs": []
    },
    {
      "metadata": {
        "id": "eJXvo7dNTi56",
        "colab_type": "code",
        "colab": {}
      },
      "cell_type": "code",
      "source": [
        "#model.fit(input_train_map, target_train, batch_size=96, epochs=100)\n"
      ],
      "execution_count": 0,
      "outputs": []
    },
    {
      "metadata": {
        "id": "PuJJizo6Z33_",
        "colab_type": "code",
        "colab": {}
      },
      "cell_type": "code",
      "source": [
        "# score = model.evaluate(input_test_map, target_test, batch_size=8)\n",
        "# print(score)\n",
        "# plot_model(model, to_file='modelcnn.png',show_shapes=True)\n"
      ],
      "execution_count": 0,
      "outputs": []
    },
    {
      "metadata": {
        "id": "gA6hNnSf7Itt",
        "colab_type": "code",
        "colab": {}
      },
      "cell_type": "code",
      "source": [
        "# input_data_test_finish = np.genfromtxt('data_test.csv', delimiter=\",\")\n",
        "# input_data_min=input_data_test_finish[0:len(input_data_test_finish)-1]\n",
        "# input_data_map=input_data_min.reshape(-1,640,480,1)\n",
        "# predict_test=model.predict(input_data_map)\n",
        "# print(predict_test)\n",
        "# predict_test_array=predict_test.tolist()\n",
        "# index=predict_test_array[0].index(max(predict_test_array[0]))\n",
        "# if index==0:\n",
        "#   print(\"I saw a rectangle\")\n",
        "# elif index==1:\n",
        "#   print(\"I saw a gear\")\n",
        "# else:\n",
        "#   print(\"It is not gear nor rectangle\")"
      ],
      "execution_count": 0,
      "outputs": []
    },
    {
      "metadata": {
        "id": "paQgRaoSuhaS",
        "colab_type": "code",
        "colab": {}
      },
      "cell_type": "code",
      "source": [
        "# model.save(\"CNN.model\")"
      ],
      "execution_count": 0,
      "outputs": []
    },
    {
      "metadata": {
        "id": "fsPnSvIbfYDo",
        "colab_type": "code",
        "colab": {}
      },
      "cell_type": "code",
      "source": [
        "# model.save('my_model.h5')"
      ],
      "execution_count": 0,
      "outputs": []
    },
    {
      "metadata": {
        "id": "pUkNd2rkiyKF",
        "colab_type": "code",
        "colab": {}
      },
      "cell_type": "code",
      "source": [
        "# model.save_weights('my_checkpoint')"
      ],
      "execution_count": 0,
      "outputs": []
    }
  ]
}