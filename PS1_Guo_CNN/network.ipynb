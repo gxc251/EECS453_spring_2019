{
  "nbformat": 4,
  "nbformat_minor": 0,
  "metadata": {
    "colab": {
      "name": "network.ipynb",
      "version": "0.3.2",
      "provenance": [],
      "collapsed_sections": []
    },
    "kernelspec": {
      "name": "python3",
      "display_name": "Python 3"
    },
    "accelerator": "GPU"
  },
  "cells": [
    {
      "metadata": {
        "id": "Z7vNneci91mA",
        "colab_type": "code",
        "colab": {}
      },
      "cell_type": "code",
      "source": [
        "import tensorflow as tf\n",
        "import numpy as np\n",
        "import pandas as pd\n",
        "from sklearn.model_selection import train_test_split\n",
        "from sklearn import preprocessing\n",
        "from sklearn.model_selection import KFold\n",
        "from keras.models import Sequential\n",
        "from keras.layers.core import Dense, Dropout, Activation,Flatten\n",
        "from keras.layers import Conv2D, MaxPooling2D\n",
        "from keras.optimizers import SGD\n",
        "from keras.callbacks import ModelCheckpoint"
      ],
      "execution_count": 0,
      "outputs": []
    },
    {
      "metadata": {
        "id": "7nYfTg-7944_",
        "colab_type": "code",
        "outputId": "19f1f5ca-9e73-4cc2-efe4-97c7e4941392",
        "colab": {
          "base_uri": "https://localhost:8080/",
          "height": 87
        }
      },
      "cell_type": "code",
      "source": [
        "input_set_labeled = np.genfromtxt ('training.csv', delimiter=\",\")\n",
        "input_set=input_set_labeled[1:input_set_labeled.shape[0],:]\n",
        "input_data=input_set[:,1:input_set.shape[1]]\n",
        "target_data = input_set[:,0]\n",
        "target_data=target_data.reshape(target_data.shape[0],1)\n",
        "print(input_data.shape)\n",
        "print(target_data.shape)\n",
        "print(input_set.shape[1])\n",
        "print(input_set.shape[0])"
      ],
      "execution_count": 112,
      "outputs": [
        {
          "output_type": "stream",
          "text": [
            "(21000, 784)\n",
            "(21000, 1)\n",
            "785\n",
            "21000\n"
          ],
          "name": "stdout"
        }
      ]
    },
    {
      "metadata": {
        "id": "Q2vom2iqsTEX",
        "colab_type": "code",
        "colab": {}
      },
      "cell_type": "code",
      "source": [
        "#input_data=tf.transpose(input_data)\n",
        "# sess = tf.Session()\n",
        "# new_input_data=tf.concat([input_data,target_data],1)\n",
        "# new_input_data=tf.random_shuffle(new_input_data)\n",
        "# init_var = tf.global_variables_initializer()\n",
        "# sess.run(init_var)\n",
        "# print(new_input_data.shape)\n",
        "# new_input_data=sess.run(new_input_data)"
      ],
      "execution_count": 0,
      "outputs": []
    },
    {
      "metadata": {
        "id": "zJ999iF8Im2P",
        "colab_type": "code",
        "colab": {}
      },
      "cell_type": "code",
      "source": [
        "# input_data=new_input_data[:,0:len(new_input_data[0])-5]\n",
        "# target_data=new_input_data[:,len(new_input_data[0])-4:len(new_input_data[0])-1]\n",
        "# print(input_data.shape)\n",
        "# print(input_data.shape)\n",
        "# input_data_trans = tf.transpose(input_data)\n",
        "# target_data_trans = tf.transpose(target_data)\n",
        "#input_data_min=input_data[:,0:len(input_data[0])]\n",
        "# print(target_data_trans.shape)"
      ],
      "execution_count": 0,
      "outputs": []
    },
    {
      "metadata": {
        "id": "6afPtoM8TLex",
        "colab_type": "code",
        "colab": {
          "base_uri": "https://localhost:8080/",
          "height": 140
        },
        "outputId": "26f27681-8f7e-4da2-862e-70ba0b04a3b8"
      },
      "cell_type": "code",
      "source": [
        "sess = tf.Session()\n",
        "init_var = tf.global_variables_initializer()\n",
        "sess.run(init_var)\n",
        "indices1 = tf.cast(target_data, tf.int32)\n",
        "one_hot_vecs1 = tf.one_hot(indices1,np.max(sess.run(indices1))+1)\n",
        "new_output=sess.run(one_hot_vecs1)\n",
        "new_output=new_output.reshape(21000,10)\n",
        "print(new_output)\n"
      ],
      "execution_count": 115,
      "outputs": [
        {
          "output_type": "stream",
          "text": [
            "[[0. 0. 0. ... 0. 0. 0.]\n",
            " [0. 0. 0. ... 1. 0. 0.]\n",
            " [0. 0. 0. ... 0. 0. 0.]\n",
            " ...\n",
            " [0. 0. 0. ... 1. 0. 0.]\n",
            " [0. 0. 0. ... 0. 0. 0.]\n",
            " [0. 0. 0. ... 0. 0. 1.]]\n"
          ],
          "name": "stdout"
        }
      ]
    },
    {
      "metadata": {
        "id": "DeYoxmMq4qbj",
        "colab_type": "code",
        "outputId": "29adef6c-658e-45e4-d8bf-d204bfe56641",
        "colab": {
          "base_uri": "https://localhost:8080/",
          "height": 87
        }
      },
      "cell_type": "code",
      "source": [
        "input_train,input_test, target_train, target_test =train_test_split(input_data_min,new_output,test_size=0.2, random_state=10)\n",
        "print(input_train.shape)\n",
        "print(input_test.shape)\n",
        "print(target_train.shape)\n",
        "print(target_test.shape)"
      ],
      "execution_count": 116,
      "outputs": [
        {
          "output_type": "stream",
          "text": [
            "(16800, 784)\n",
            "(4200, 784)\n",
            "(16800, 10)\n",
            "(4200, 10)\n"
          ],
          "name": "stdout"
        }
      ]
    },
    {
      "metadata": {
        "id": "vP36HqMo-PpC",
        "colab_type": "code",
        "outputId": "bfb4d8c8-0143-4b71-85d3-082e5c6cdf57",
        "colab": {
          "base_uri": "https://localhost:8080/",
          "height": 52
        }
      },
      "cell_type": "code",
      "source": [
        "input_train_map=input_train.reshape(-1,28,28,1)\n",
        "input_test_map=input_test.reshape(-1,28,28,1)\n",
        "print(input_train_map.shape)\n",
        "print(input_test_map.shape)"
      ],
      "execution_count": 117,
      "outputs": [
        {
          "output_type": "stream",
          "text": [
            "(16800, 28, 28, 1)\n",
            "(4200, 28, 28, 1)\n"
          ],
          "name": "stdout"
        }
      ]
    },
    {
      "metadata": {
        "id": "TbkipCPACSIg",
        "colab_type": "code",
        "colab": {}
      },
      "cell_type": "code",
      "source": [
        "model = Sequential()\n",
        "#32 core，with size 3*3\n",
        "model.add(Conv2D(32, (3, 3), activation='relu', input_shape=(28, 28, 1)))\n",
        "#2*2 max pool\n",
        "model.add(MaxPooling2D(pool_size=(2, 2)))\n",
        "#drop out layor\n",
        "#model.add(Dropout(0.25))\n",
        "#64 core，with size 3*3\n",
        "model.add(Conv2D(64, (3, 3), activation='relu'))\n",
        "model.add(Conv2D(64, (3, 3), activation='relu'))\n",
        "#2*2 max pool\n",
        "model.add(MaxPooling2D(pool_size=(2, 2)))\n",
        "#drop out layor\n",
        "#model.add(Dropout(0.25))\n",
        "#flatten layor\n",
        "model.add(Flatten())\n",
        "#full connected\n",
        "model.add(Dense(512, activation='relu'))\n",
        "#model.add(Dense(32, activation='relu'))\n",
        "model.add(Dropout(0.5))\n",
        "\n",
        "\n",
        "#sorting\n",
        "model.add(Dense(10, activation='softmax'))\n",
        "\n",
        "sgd = SGD(lr=0.001, decay=1e-6, momentum=0.9, nesterov=True)\n",
        "model.compile(loss='categorical_crossentropy', optimizer=sgd)\n",
        "\n"
      ],
      "execution_count": 0,
      "outputs": []
    },
    {
      "metadata": {
        "id": "eJXvo7dNTi56",
        "colab_type": "code",
        "outputId": "058988cd-fa1a-4dea-e8b2-79e0d7781f00",
        "colab": {
          "base_uri": "https://localhost:8080/",
          "height": 3554
        }
      },
      "cell_type": "code",
      "source": [
        "model.fit(input_train_map, target_train, batch_size=96, epochs=100)\n",
        "\n"
      ],
      "execution_count": 125,
      "outputs": [
        {
          "output_type": "stream",
          "text": [
            "Epoch 1/100\n",
            "16800/16800 [==============================] - 2s 117us/step - loss: 0.0517\n",
            "Epoch 2/100\n",
            "16800/16800 [==============================] - 2s 115us/step - loss: 0.0466\n",
            "Epoch 3/100\n",
            "16800/16800 [==============================] - 2s 116us/step - loss: 0.0398\n",
            "Epoch 4/100\n",
            "16800/16800 [==============================] - 2s 115us/step - loss: 0.0385\n",
            "Epoch 5/100\n",
            "16800/16800 [==============================] - 2s 115us/step - loss: 0.0332\n",
            "Epoch 6/100\n",
            "16800/16800 [==============================] - 2s 115us/step - loss: 0.0328\n",
            "Epoch 7/100\n",
            "16800/16800 [==============================] - 2s 115us/step - loss: 0.0294\n",
            "Epoch 8/100\n",
            "16800/16800 [==============================] - 2s 115us/step - loss: 0.0261\n",
            "Epoch 9/100\n",
            "16800/16800 [==============================] - 2s 116us/step - loss: 0.0286\n",
            "Epoch 10/100\n",
            "16800/16800 [==============================] - 2s 115us/step - loss: 0.0272\n",
            "Epoch 11/100\n",
            "16800/16800 [==============================] - 2s 115us/step - loss: 0.0234\n",
            "Epoch 12/100\n",
            "16800/16800 [==============================] - 2s 113us/step - loss: 0.0205\n",
            "Epoch 13/100\n",
            "16800/16800 [==============================] - 2s 115us/step - loss: 0.0216\n",
            "Epoch 14/100\n",
            "16800/16800 [==============================] - 2s 115us/step - loss: 0.0207\n",
            "Epoch 15/100\n",
            "16800/16800 [==============================] - 2s 115us/step - loss: 0.0188\n",
            "Epoch 16/100\n",
            "16800/16800 [==============================] - 2s 114us/step - loss: 0.0173\n",
            "Epoch 17/100\n",
            "16800/16800 [==============================] - 2s 114us/step - loss: 0.0140\n",
            "Epoch 18/100\n",
            "16800/16800 [==============================] - 2s 114us/step - loss: 0.0186\n",
            "Epoch 19/100\n",
            "16800/16800 [==============================] - 2s 115us/step - loss: 0.0145\n",
            "Epoch 20/100\n",
            "16800/16800 [==============================] - 2s 114us/step - loss: 0.0141\n",
            "Epoch 21/100\n",
            "16800/16800 [==============================] - 2s 114us/step - loss: 0.0153\n",
            "Epoch 22/100\n",
            "16800/16800 [==============================] - 2s 115us/step - loss: 0.0142\n",
            "Epoch 23/100\n",
            "16800/16800 [==============================] - 2s 115us/step - loss: 0.0119\n",
            "Epoch 24/100\n",
            "16800/16800 [==============================] - 2s 115us/step - loss: 0.0124\n",
            "Epoch 25/100\n",
            "16800/16800 [==============================] - 2s 115us/step - loss: 0.0113\n",
            "Epoch 26/100\n",
            "16800/16800 [==============================] - 2s 114us/step - loss: 0.0122\n",
            "Epoch 27/100\n",
            "16800/16800 [==============================] - 2s 115us/step - loss: 0.0105\n",
            "Epoch 28/100\n",
            "16800/16800 [==============================] - 2s 114us/step - loss: 0.0090\n",
            "Epoch 29/100\n",
            "16800/16800 [==============================] - 2s 115us/step - loss: 0.0116\n",
            "Epoch 30/100\n",
            "16800/16800 [==============================] - 2s 115us/step - loss: 0.0114\n",
            "Epoch 31/100\n",
            "16800/16800 [==============================] - 2s 114us/step - loss: 0.0078\n",
            "Epoch 32/100\n",
            "16800/16800 [==============================] - 2s 115us/step - loss: 0.0077\n",
            "Epoch 33/100\n",
            "16800/16800 [==============================] - 2s 115us/step - loss: 0.0088\n",
            "Epoch 34/100\n",
            "16800/16800 [==============================] - 2s 114us/step - loss: 0.0080\n",
            "Epoch 35/100\n",
            "16800/16800 [==============================] - 2s 115us/step - loss: 0.0078\n",
            "Epoch 36/100\n",
            "16800/16800 [==============================] - 2s 115us/step - loss: 0.0086\n",
            "Epoch 37/100\n",
            "16800/16800 [==============================] - 2s 115us/step - loss: 0.0078\n",
            "Epoch 38/100\n",
            "16800/16800 [==============================] - 2s 116us/step - loss: 0.0087\n",
            "Epoch 39/100\n",
            "16800/16800 [==============================] - 2s 115us/step - loss: 0.0079\n",
            "Epoch 40/100\n",
            "16800/16800 [==============================] - 2s 116us/step - loss: 0.0073\n",
            "Epoch 41/100\n",
            "16800/16800 [==============================] - 2s 115us/step - loss: 0.0072\n",
            "Epoch 42/100\n",
            "16800/16800 [==============================] - 2s 115us/step - loss: 0.0075\n",
            "Epoch 43/100\n",
            "16800/16800 [==============================] - 2s 115us/step - loss: 0.0060\n",
            "Epoch 44/100\n",
            "16800/16800 [==============================] - 2s 114us/step - loss: 0.0070\n",
            "Epoch 45/100\n",
            "16800/16800 [==============================] - 2s 115us/step - loss: 0.0087\n",
            "Epoch 46/100\n",
            "16800/16800 [==============================] - 2s 114us/step - loss: 0.0051\n",
            "Epoch 47/100\n",
            "16800/16800 [==============================] - 2s 115us/step - loss: 0.0061\n",
            "Epoch 48/100\n",
            "16800/16800 [==============================] - 2s 114us/step - loss: 0.0063\n",
            "Epoch 49/100\n",
            "16800/16800 [==============================] - 2s 116us/step - loss: 0.0051\n",
            "Epoch 50/100\n",
            "16800/16800 [==============================] - 2s 114us/step - loss: 0.0055\n",
            "Epoch 51/100\n",
            "16800/16800 [==============================] - 2s 114us/step - loss: 0.0049\n",
            "Epoch 52/100\n",
            "16800/16800 [==============================] - 2s 118us/step - loss: 0.0070\n",
            "Epoch 53/100\n",
            "16800/16800 [==============================] - 2s 119us/step - loss: 0.0062\n",
            "Epoch 54/100\n",
            "16800/16800 [==============================] - 2s 119us/step - loss: 0.0053\n",
            "Epoch 55/100\n",
            "16800/16800 [==============================] - 2s 113us/step - loss: 0.0051\n",
            "Epoch 56/100\n",
            "16800/16800 [==============================] - 2s 114us/step - loss: 0.0051\n",
            "Epoch 57/100\n",
            "16800/16800 [==============================] - 2s 114us/step - loss: 0.0035\n",
            "Epoch 58/100\n",
            "16800/16800 [==============================] - 2s 114us/step - loss: 0.0059\n",
            "Epoch 59/100\n",
            "16800/16800 [==============================] - 2s 114us/step - loss: 0.0049\n",
            "Epoch 60/100\n",
            "16800/16800 [==============================] - 2s 114us/step - loss: 0.0044\n",
            "Epoch 61/100\n",
            "16800/16800 [==============================] - 2s 115us/step - loss: 0.0038\n",
            "Epoch 62/100\n",
            "16800/16800 [==============================] - 2s 114us/step - loss: 0.0043\n",
            "Epoch 63/100\n",
            "16800/16800 [==============================] - 2s 114us/step - loss: 0.0055\n",
            "Epoch 64/100\n",
            "16800/16800 [==============================] - 2s 114us/step - loss: 0.0046\n",
            "Epoch 65/100\n",
            "16800/16800 [==============================] - 2s 114us/step - loss: 0.0042\n",
            "Epoch 66/100\n",
            "16800/16800 [==============================] - 2s 115us/step - loss: 0.0041\n",
            "Epoch 67/100\n",
            "16800/16800 [==============================] - 2s 114us/step - loss: 0.0036\n",
            "Epoch 68/100\n",
            "16800/16800 [==============================] - 2s 114us/step - loss: 0.0054\n",
            "Epoch 69/100\n",
            "16800/16800 [==============================] - 2s 114us/step - loss: 0.0050\n",
            "Epoch 70/100\n",
            "16800/16800 [==============================] - 2s 114us/step - loss: 0.0040\n",
            "Epoch 71/100\n",
            "16800/16800 [==============================] - 2s 115us/step - loss: 0.0036\n",
            "Epoch 72/100\n",
            "16800/16800 [==============================] - 2s 114us/step - loss: 0.0034\n",
            "Epoch 73/100\n",
            "16800/16800 [==============================] - 2s 114us/step - loss: 0.0042\n",
            "Epoch 74/100\n",
            "16800/16800 [==============================] - 2s 114us/step - loss: 0.0039\n",
            "Epoch 75/100\n",
            "16800/16800 [==============================] - 2s 114us/step - loss: 0.0042\n",
            "Epoch 76/100\n",
            "16800/16800 [==============================] - 2s 114us/step - loss: 0.0038\n",
            "Epoch 77/100\n",
            "16800/16800 [==============================] - 2s 115us/step - loss: 0.0042\n",
            "Epoch 78/100\n",
            "16800/16800 [==============================] - 2s 113us/step - loss: 0.0032\n",
            "Epoch 79/100\n",
            "16800/16800 [==============================] - 2s 114us/step - loss: 0.0034\n",
            "Epoch 80/100\n",
            "16800/16800 [==============================] - 2s 113us/step - loss: 0.0036\n",
            "Epoch 81/100\n",
            "16800/16800 [==============================] - 2s 115us/step - loss: 0.0029\n",
            "Epoch 82/100\n",
            "16800/16800 [==============================] - 2s 114us/step - loss: 0.0028\n",
            "Epoch 83/100\n",
            "16800/16800 [==============================] - 2s 114us/step - loss: 0.0030\n",
            "Epoch 84/100\n",
            "16800/16800 [==============================] - 2s 115us/step - loss: 0.0031\n",
            "Epoch 85/100\n",
            "16800/16800 [==============================] - 2s 114us/step - loss: 0.0028\n",
            "Epoch 86/100\n",
            "16800/16800 [==============================] - 2s 114us/step - loss: 0.0038\n",
            "Epoch 87/100\n",
            "16800/16800 [==============================] - 2s 114us/step - loss: 0.0027\n",
            "Epoch 88/100\n",
            "16800/16800 [==============================] - 2s 115us/step - loss: 0.0033\n",
            "Epoch 89/100\n",
            "16800/16800 [==============================] - 2s 114us/step - loss: 0.0035\n",
            "Epoch 90/100\n",
            "16800/16800 [==============================] - 2s 114us/step - loss: 0.0026\n",
            "Epoch 91/100\n",
            "16800/16800 [==============================] - 2s 114us/step - loss: 0.0032\n",
            "Epoch 92/100\n",
            "16800/16800 [==============================] - 2s 114us/step - loss: 0.0035\n",
            "Epoch 93/100\n",
            "16800/16800 [==============================] - 2s 114us/step - loss: 0.0037\n",
            "Epoch 94/100\n",
            "16800/16800 [==============================] - 2s 114us/step - loss: 0.0024\n",
            "Epoch 95/100\n",
            "16800/16800 [==============================] - 2s 115us/step - loss: 0.0034\n",
            "Epoch 96/100\n",
            "16800/16800 [==============================] - 2s 114us/step - loss: 0.0041\n",
            "Epoch 97/100\n",
            "16800/16800 [==============================] - 2s 115us/step - loss: 0.0034\n",
            "Epoch 98/100\n",
            "16800/16800 [==============================] - 2s 114us/step - loss: 0.0030\n",
            "Epoch 99/100\n",
            "16800/16800 [==============================] - 2s 114us/step - loss: 0.0031\n",
            "Epoch 100/100\n",
            "16800/16800 [==============================] - 2s 115us/step - loss: 0.0037\n"
          ],
          "name": "stdout"
        },
        {
          "output_type": "execute_result",
          "data": {
            "text/plain": [
              "<keras.callbacks.History at 0x7f242ebc0438>"
            ]
          },
          "metadata": {
            "tags": []
          },
          "execution_count": 125
        }
      ]
    },
    {
      "metadata": {
        "id": "PuJJizo6Z33_",
        "colab_type": "code",
        "outputId": "02d3ee10-f6e9-4024-9701-d6bf5d3510c0",
        "colab": {
          "base_uri": "https://localhost:8080/",
          "height": 52
        }
      },
      "cell_type": "code",
      "source": [
        "score = model.evaluate(input_test_map, target_test, batch_size=8)\n",
        "print(score)\n",
        "# plot_model(model, to_file='modelcnn.png',show_shapes=True)\n"
      ],
      "execution_count": 126,
      "outputs": [
        {
          "output_type": "stream",
          "text": [
            "4200/4200 [==============================] - 1s 313us/step\n",
            "0.07178178971240137\n"
          ],
          "name": "stdout"
        }
      ]
    },
    {
      "metadata": {
        "id": "gA6hNnSf7Itt",
        "colab_type": "code",
        "colab": {}
      },
      "cell_type": "code",
      "source": [
        "# input_data_test_finish = np.genfromtxt('data_test.csv', delimiter=\",\")\n",
        "# input_data_min=input_data_test_finish[0:len(input_data_test_finish)-1]\n",
        "# input_data_map=input_data_min.reshape(-1,640,480,1)\n",
        "# predict_test=model.predict(input_data_map)\n",
        "# print(predict_test)\n",
        "# predict_test_array=predict_test.tolist()\n",
        "# index=predict_test_array[0].index(max(predict_test_array[0]))\n",
        "# if index==0:\n",
        "#   print(\"I saw a rectangle\")\n",
        "# elif index==1:\n",
        "#   print(\"I saw a gear\")\n",
        "# else:\n",
        "#   print(\"It is not gear nor rectangle\")"
      ],
      "execution_count": 0,
      "outputs": []
    },
    {
      "metadata": {
        "id": "paQgRaoSuhaS",
        "colab_type": "code",
        "colab": {}
      },
      "cell_type": "code",
      "source": [
        "model.save(\"CNN.model\")"
      ],
      "execution_count": 0,
      "outputs": []
    },
    {
      "metadata": {
        "id": "fsPnSvIbfYDo",
        "colab_type": "code",
        "colab": {}
      },
      "cell_type": "code",
      "source": [
        "model.save('my_model.h5')"
      ],
      "execution_count": 0,
      "outputs": []
    },
    {
      "metadata": {
        "id": "pUkNd2rkiyKF",
        "colab_type": "code",
        "colab": {}
      },
      "cell_type": "code",
      "source": [
        "model.save_weights('my_checkpoint')"
      ],
      "execution_count": 0,
      "outputs": []
    }
  ]
}