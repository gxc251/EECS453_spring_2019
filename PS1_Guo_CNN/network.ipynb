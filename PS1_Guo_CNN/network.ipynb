{
  "nbformat": 4,
  "nbformat_minor": 0,
  "metadata": {
    "colab": {
      "name": "network.ipynb",
      "version": "0.3.2",
      "provenance": [],
      "collapsed_sections": []
    },
    "kernelspec": {
      "name": "python3",
      "display_name": "Python 3"
    },
    "accelerator": "GPU"
  },
  "cells": [
    {
      "metadata": {
        "id": "Z7vNneci91mA",
        "colab_type": "code",
        "colab": {}
      },
      "cell_type": "code",
      "source": [
        "import tensorflow as tf\n",
        "import numpy as np\n",
        "import pandas as pd\n",
        "from sklearn.model_selection import train_test_split\n",
        "from sklearn import preprocessing\n",
        "from sklearn.model_selection import KFold\n",
        "from keras.models import Sequential\n",
        "from keras.layers.core import Dense, Dropout, Activation,Flatten\n",
        "from keras.layers import Conv2D, MaxPooling2D\n",
        "from keras.optimizers import SGD\n",
        "from keras.callbacks import ModelCheckpoint"
      ],
      "execution_count": 0,
      "outputs": []
    },
    {
      "metadata": {
        "id": "7nYfTg-7944_",
        "colab_type": "code",
        "outputId": "95b79b55-f0ec-4c5e-8205-c7804af0e70a",
        "colab": {
          "base_uri": "https://localhost:8080/",
          "height": 87
        }
      },
      "cell_type": "code",
      "source": [
        "input_set_labeled = np.genfromtxt ('training.csv', delimiter=\",\")\n",
        "input_set=input_set_labeled[1:input_set_labeled.shape[0],:]\n",
        "input_data=input_set[:,1:input_set.shape[1]]\n",
        "target_data = input_set[:,0]\n",
        "target_data=target_data.reshape(target_data.shape[0],1)\n",
        "print(input_data.shape)\n",
        "print(target_data.shape)\n",
        "print(input_set.shape[1])\n",
        "print(input_set.shape[0])"
      ],
      "execution_count": 25,
      "outputs": [
        {
          "output_type": "stream",
          "text": [
            "(21000, 784)\n",
            "(21000, 1)\n",
            "785\n",
            "21000\n"
          ],
          "name": "stdout"
        }
      ]
    },
    {
      "metadata": {
        "id": "Q2vom2iqsTEX",
        "colab_type": "code",
        "colab": {}
      },
      "cell_type": "code",
      "source": [
        "#input_data=tf.transpose(input_data)\n",
        "# sess = tf.Session()\n",
        "# new_input_data=tf.concat([input_data,target_data],1)\n",
        "# new_input_data=tf.random_shuffle(new_input_data)\n",
        "# init_var = tf.global_variables_initializer()\n",
        "# sess.run(init_var)\n",
        "# print(new_input_data.shape)\n",
        "# new_input_data=sess.run(new_input_data)"
      ],
      "execution_count": 0,
      "outputs": []
    },
    {
      "metadata": {
        "id": "zJ999iF8Im2P",
        "colab_type": "code",
        "colab": {}
      },
      "cell_type": "code",
      "source": [
        "# input_data=new_input_data[:,0:len(new_input_data[0])-5]\n",
        "# target_data=new_input_data[:,len(new_input_data[0])-4:len(new_input_data[0])-1]\n",
        "# print(input_data.shape)\n",
        "# print(input_data.shape)\n",
        "# input_data_trans = tf.transpose(input_data)\n",
        "# target_data_trans = tf.transpose(target_data)\n",
        "#input_data_min=input_data[:,0:len(input_data[0])]\n",
        "# print(target_data_trans.shape)"
      ],
      "execution_count": 0,
      "outputs": []
    },
    {
      "metadata": {
        "id": "6afPtoM8TLex",
        "colab_type": "code",
        "colab": {
          "base_uri": "https://localhost:8080/",
          "height": 140
        },
        "outputId": "a7391120-8e76-46e3-f1bb-4788e221b775"
      },
      "cell_type": "code",
      "source": [
        "sess = tf.Session()\n",
        "init_var = tf.global_variables_initializer()\n",
        "sess.run(init_var)\n",
        "indices1 = tf.cast(target_data, tf.int32)\n",
        "one_hot_vecs1 = tf.one_hot(indices1,np.max(sess.run(indices1))+1)\n",
        "new_output=sess.run(one_hot_vecs1)\n",
        "new_output=new_output.reshape(21000,10)\n",
        "print(new_output)\n"
      ],
      "execution_count": 33,
      "outputs": [
        {
          "output_type": "stream",
          "text": [
            "[[0. 0. 0. ... 0. 0. 0.]\n",
            " [0. 0. 0. ... 1. 0. 0.]\n",
            " [0. 0. 0. ... 0. 0. 0.]\n",
            " ...\n",
            " [0. 0. 0. ... 1. 0. 0.]\n",
            " [0. 0. 0. ... 0. 0. 0.]\n",
            " [0. 0. 0. ... 0. 0. 1.]]\n"
          ],
          "name": "stdout"
        }
      ]
    },
    {
      "metadata": {
        "id": "DeYoxmMq4qbj",
        "colab_type": "code",
        "outputId": "767bd009-d57e-49b4-a52a-17738440099c",
        "colab": {
          "base_uri": "https://localhost:8080/",
          "height": 87
        }
      },
      "cell_type": "code",
      "source": [
        "input_train,input_test, target_train, target_test =train_test_split(input_data_min,new_output,test_size=0.2, random_state=10)\n",
        "print(input_train.shape)\n",
        "print(input_test.shape)\n",
        "print(target_train.shape)\n",
        "print(target_test.shape)"
      ],
      "execution_count": 34,
      "outputs": [
        {
          "output_type": "stream",
          "text": [
            "(16800, 784)\n",
            "(4200, 784)\n",
            "(16800, 10)\n",
            "(4200, 10)\n"
          ],
          "name": "stdout"
        }
      ]
    },
    {
      "metadata": {
        "id": "vP36HqMo-PpC",
        "colab_type": "code",
        "outputId": "a9c044c6-71ed-46b8-a8b0-4bac6da56e9f",
        "colab": {
          "base_uri": "https://localhost:8080/",
          "height": 52
        }
      },
      "cell_type": "code",
      "source": [
        "input_train_map=input_train.reshape(-1,28,28,1)\n",
        "input_test_map=input_test.reshape(-1,28,28,1)\n",
        "print(input_train_map.shape)\n",
        "print(input_test_map.shape)"
      ],
      "execution_count": 35,
      "outputs": [
        {
          "output_type": "stream",
          "text": [
            "(16800, 28, 28, 1)\n",
            "(4200, 28, 28, 1)\n"
          ],
          "name": "stdout"
        }
      ]
    },
    {
      "metadata": {
        "id": "TbkipCPACSIg",
        "colab_type": "code",
        "colab": {}
      },
      "cell_type": "code",
      "source": [
        "model = Sequential()\n",
        "#32 core，with size 3*3\n",
        "model.add(Conv2D(32, (3, 3), activation='relu', input_shape=(28, 28, 1)))\n",
        "#2*2 max pool\n",
        "model.add(MaxPooling2D(pool_size=(2, 2)))\n",
        "#drop out layor\n",
        "model.add(Dropout(0.25))\n",
        "#64 core，with size 3*3\n",
        "model.add(Conv2D(64, (3, 3), activation='relu'))\n",
        "#2*2 max pool\n",
        "model.add(MaxPooling2D(pool_size=(2, 2)))\n",
        "#drop out layor\n",
        "model.add(Dropout(0.25))\n",
        "#flatten layor\n",
        "model.add(Flatten())\n",
        "#full connected\n",
        "model.add(Dense(256, activation='relu'))\n",
        "model.add(Dense(64, activation='relu'))\n",
        "\n",
        "#sorting\n",
        "model.add(Dense(10, activation='softmax'))\n",
        "\n",
        "sgd = SGD(lr=0.01, decay=1e-6, momentum=0.9, nesterov=True)\n",
        "model.compile(loss='categorical_crossentropy', optimizer=sgd)\n",
        "\n"
      ],
      "execution_count": 0,
      "outputs": []
    },
    {
      "metadata": {
        "id": "eJXvo7dNTi56",
        "colab_type": "code",
        "outputId": "f2e197a7-72e2-4cbc-b81d-0c12b0f6f732",
        "colab": {
          "base_uri": "https://localhost:8080/",
          "height": 1638
        }
      },
      "cell_type": "code",
      "source": [
        "model.fit(input_train_map, target_train, batch_size=8, epochs=100)\n",
        "\n"
      ],
      "execution_count": 0,
      "outputs": [
        {
          "output_type": "stream",
          "text": [
            "WARNING:tensorflow:From /usr/local/lib/python3.6/dist-packages/tensorflow/python/ops/math_ops.py:3066: to_int32 (from tensorflow.python.ops.math_ops) is deprecated and will be removed in a future version.\n",
            "Instructions for updating:\n",
            "Use tf.cast instead.\n",
            "Epoch 1/100\n",
            "16800/16800 [==============================] - 16s 946us/step - loss: 14.5653\n",
            "Epoch 2/100\n",
            "16800/16800 [==============================] - 13s 784us/step - loss: 14.5658\n",
            "Epoch 3/100\n",
            "16800/16800 [==============================] - 13s 785us/step - loss: 14.5658\n",
            "Epoch 4/100\n",
            "16800/16800 [==============================] - 13s 768us/step - loss: 14.5658\n",
            "Epoch 5/100\n",
            "16800/16800 [==============================] - 13s 767us/step - loss: 14.5658\n",
            "Epoch 6/100\n",
            "16800/16800 [==============================] - 13s 763us/step - loss: 14.5658\n",
            "Epoch 7/100\n",
            "16800/16800 [==============================] - 13s 769us/step - loss: 14.5658\n",
            "Epoch 8/100\n",
            "16800/16800 [==============================] - 13s 768us/step - loss: 14.5658\n",
            "Epoch 9/100\n",
            "16800/16800 [==============================] - 13s 768us/step - loss: 14.5658\n",
            "Epoch 10/100\n",
            "16800/16800 [==============================] - 13s 765us/step - loss: 14.5658\n",
            "Epoch 11/100\n",
            "16800/16800 [==============================] - 13s 772us/step - loss: 14.5658\n",
            "Epoch 12/100\n",
            "16800/16800 [==============================] - 13s 800us/step - loss: 14.5658\n",
            "Epoch 13/100\n",
            "16800/16800 [==============================] - 13s 759us/step - loss: 14.5658\n",
            "Epoch 14/100\n",
            "16800/16800 [==============================] - 13s 761us/step - loss: 14.5658\n",
            "Epoch 15/100\n",
            "16800/16800 [==============================] - 13s 763us/step - loss: 14.5658\n",
            "Epoch 16/100\n",
            "16800/16800 [==============================] - 13s 762us/step - loss: 14.5658\n",
            "Epoch 17/100\n",
            "16800/16800 [==============================] - 13s 765us/step - loss: 14.5658\n",
            "Epoch 18/100\n",
            "16800/16800 [==============================] - 13s 760us/step - loss: 14.5658\n",
            "Epoch 19/100\n",
            "16800/16800 [==============================] - 13s 759us/step - loss: 14.5658\n",
            "Epoch 20/100\n",
            "16800/16800 [==============================] - 13s 757us/step - loss: 14.5658\n",
            "Epoch 21/100\n",
            "16800/16800 [==============================] - 13s 756us/step - loss: 14.5658\n",
            "Epoch 22/100\n",
            "16800/16800 [==============================] - 13s 756us/step - loss: 14.5658\n",
            "Epoch 23/100\n",
            "16800/16800 [==============================] - 13s 758us/step - loss: 14.5658\n",
            "Epoch 24/100\n",
            "16800/16800 [==============================] - 13s 758us/step - loss: 14.5658\n",
            "Epoch 25/100\n",
            "16800/16800 [==============================] - 13s 755us/step - loss: 14.5658\n",
            "Epoch 26/100\n",
            "16800/16800 [==============================] - 13s 785us/step - loss: 14.5658\n",
            "Epoch 27/100\n",
            "16800/16800 [==============================] - 13s 755us/step - loss: 14.5658\n",
            "Epoch 28/100\n",
            "16800/16800 [==============================] - 13s 757us/step - loss: 14.5658\n",
            "Epoch 29/100\n",
            "16800/16800 [==============================] - 13s 760us/step - loss: 14.5658\n",
            "Epoch 30/100\n",
            "16800/16800 [==============================] - 13s 759us/step - loss: 14.5658\n",
            "Epoch 31/100\n",
            "16800/16800 [==============================] - 13s 756us/step - loss: 14.5658\n",
            "Epoch 32/100\n",
            "16800/16800 [==============================] - 13s 756us/step - loss: 14.5658\n",
            "Epoch 33/100\n",
            "16800/16800 [==============================] - 13s 755us/step - loss: 14.5658\n",
            "Epoch 34/100\n",
            "16800/16800 [==============================] - 13s 754us/step - loss: 14.5658\n",
            "Epoch 35/100\n",
            "16800/16800 [==============================] - 13s 758us/step - loss: 14.5658\n",
            "Epoch 36/100\n",
            "16800/16800 [==============================] - 14s 807us/step - loss: 14.5658\n",
            "Epoch 37/100\n",
            "16800/16800 [==============================] - 13s 753us/step - loss: 14.5658\n",
            "Epoch 38/100\n",
            "16800/16800 [==============================] - 13s 753us/step - loss: 14.5658\n",
            "Epoch 39/100\n",
            "16800/16800 [==============================] - 13s 752us/step - loss: 14.5658\n",
            "Epoch 40/100\n",
            "16800/16800 [==============================] - 13s 754us/step - loss: 14.5658\n",
            "Epoch 41/100\n",
            "16800/16800 [==============================] - 13s 753us/step - loss: 14.5658\n",
            "Epoch 42/100\n",
            "16800/16800 [==============================] - 13s 754us/step - loss: 14.5658\n",
            "Epoch 43/100\n",
            "16800/16800 [==============================] - 13s 757us/step - loss: 14.5658\n",
            "Epoch 44/100\n",
            "11640/16800 [===================>..........] - ETA: 3s - loss: 14.5437"
          ],
          "name": "stdout"
        }
      ]
    },
    {
      "metadata": {
        "id": "PuJJizo6Z33_",
        "colab_type": "code",
        "colab": {}
      },
      "cell_type": "code",
      "source": [
        "score = model.evaluate(input_test_map, target_test, batch_size=8)\n",
        "print(score)\n",
        "# plot_model(model, to_file='modelcnn.png',show_shapes=True)\n"
      ],
      "execution_count": 0,
      "outputs": []
    },
    {
      "metadata": {
        "id": "gA6hNnSf7Itt",
        "colab_type": "code",
        "colab": {}
      },
      "cell_type": "code",
      "source": [
        "# input_data_test_finish = np.genfromtxt('data_test.csv', delimiter=\",\")\n",
        "# input_data_min=input_data_test_finish[0:len(input_data_test_finish)-1]\n",
        "# input_data_map=input_data_min.reshape(-1,640,480,1)\n",
        "# predict_test=model.predict(input_data_map)\n",
        "# print(predict_test)\n",
        "# predict_test_array=predict_test.tolist()\n",
        "# index=predict_test_array[0].index(max(predict_test_array[0]))\n",
        "# if index==0:\n",
        "#   print(\"I saw a rectangle\")\n",
        "# elif index==1:\n",
        "#   print(\"I saw a gear\")\n",
        "# else:\n",
        "#   print(\"It is not gear nor rectangle\")"
      ],
      "execution_count": 0,
      "outputs": []
    },
    {
      "metadata": {
        "id": "paQgRaoSuhaS",
        "colab_type": "code",
        "colab": {}
      },
      "cell_type": "code",
      "source": [
        "model.save(\"CNN2.model\")"
      ],
      "execution_count": 0,
      "outputs": []
    },
    {
      "metadata": {
        "id": "fsPnSvIbfYDo",
        "colab_type": "code",
        "colab": {}
      },
      "cell_type": "code",
      "source": [
        "model.save('my_model.h5')"
      ],
      "execution_count": 0,
      "outputs": []
    },
    {
      "metadata": {
        "id": "pUkNd2rkiyKF",
        "colab_type": "code",
        "colab": {}
      },
      "cell_type": "code",
      "source": [
        "model.save_weights('my_checkpoint')"
      ],
      "execution_count": 0,
      "outputs": []
    }
  ]
}